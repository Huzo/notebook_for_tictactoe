{
 "cells": [
  {
   "cell_type": "code",
   "execution_count": 1,
   "metadata": {
    "collapsed": true
   },
   "outputs": [],
   "source": [
    "moves = [] #list of moves entered by the users. \n",
    "xo = [' ',' ',' ',' ',' ',' ',' ',' ',' '] #list of 'X's and 'O's that we will obtain by converting 'moves' to 'xo'"
   ]
  },
  {
   "cell_type": "code",
   "execution_count": 2,
   "metadata": {
    "collapsed": true
   },
   "outputs": [],
   "source": [
    "#printing the game board\n",
    "def printBoard(xo):\n",
    "    print('{} | {} | {}'.format(xo[0],xo[1],xo[2]))\n",
    "    print('---------')\n",
    "    print('{} | {} | {}'.format(xo[3],xo[4],xo[5]))\n",
    "    print('---------')\n",
    "    print('{} | {} | {}'.format(xo[6],xo[7],xo[8]))\n",
    "    return"
   ]
  },
  {
   "cell_type": "code",
   "execution_count": 3,
   "metadata": {
    "collapsed": true
   },
   "outputs": [],
   "source": [
    "#converting 'moves', which is acquired by user input, to 'xo'\n",
    "def moves_to_xo(moves,xo):\n",
    "    for move in moves:\n",
    "        #If the index is even, it is player 1 that did the move\n",
    "        if moves.index(move)%2==0:\n",
    "            c = 'X'\n",
    "        \n",
    "        #else it is player 2\n",
    "        else:\n",
    "            c = 'O'\n",
    "        xo[int(move)-1] = c\n",
    "    return"
   ]
  },
  {
   "cell_type": "code",
   "execution_count": 4,
   "metadata": {
    "collapsed": true
   },
   "outputs": [],
   "source": [
    "#user input\n",
    "def userInput(moves):\n",
    "    if len(moves)%2==0:\n",
    "        inp = input('\\nPlayer 1, your turn:')\n",
    "        if(inp not in ['1','2','3','4','5','6','7','8','9']):\n",
    "            print('Invalid Input')\n",
    "            return userInput(moves)\n",
    "        elif(inp in moves):\n",
    "            print('Invalid Move')\n",
    "            return userInput(moves)\n",
    "        else:\n",
    "            moves.append(inp)\n",
    "    else:\n",
    "        inp = input('Player 2, your turn:')\n",
    "        if(inp not in ['1','2','3','4','5','6','7','8','9']):\n",
    "            print('Wrong Input')\n",
    "            return userInput(moves)\n",
    "        elif(inp in moves):\n",
    "            print('Wrong Move')\n",
    "            return userInput(moves)\n",
    "        else:\n",
    "            moves.append(inp)\n",
    "    return "
   ]
  },
  {
   "cell_type": "code",
   "execution_count": 5,
   "metadata": {},
   "outputs": [],
   "source": [
    "#check if there is a winner or if the game is over as a tie\n",
    "def isWin(xo):\n",
    "    winner = 0\n",
    "    if(xo[0]==xo[1]==xo[2]!=' '):\n",
    "        if xo[0] == 'X':\n",
    "            winner = 1\n",
    "        else:\n",
    "            winner = 2\n",
    "    elif(xo[3]==xo[4]==xo[5]!=' '):\n",
    "        if xo[3] == 'X':\n",
    "            winner = 1\n",
    "        else:\n",
    "            winner = 2\n",
    "    elif(xo[6]==xo[7]==xo[8]!=' '):\n",
    "        if xo[6] == 'X':\n",
    "            winner = 1\n",
    "        else:\n",
    "            winner = 2\n",
    "    elif(xo[0]==xo[4]==xo[8]!=' '):\n",
    "        if xo[0] == 'X':\n",
    "            winner = 1\n",
    "        else:\n",
    "            winner = 2\n",
    "    elif(xo[2]==xo[4]==xo[6]!=' '):\n",
    "        if xo[2] == 'X':\n",
    "            winner = 1\n",
    "        else:\n",
    "            winner = 2\n",
    "    elif(xo[0]==xo[3]==xo[6]!=' '):\n",
    "        if xo[0] == 'X':\n",
    "            winner = 1\n",
    "        else:\n",
    "            winner = 2\n",
    "    elif(xo[1]==xo[4]==xo[7]!=' '):\n",
    "        if xo[1] == 'X':\n",
    "            winner = 1\n",
    "        else:\n",
    "            winner = 2\n",
    "    elif(xo[2]==xo[5]==xo[8]!=' '):\n",
    "        if xo[2] == 'X':\n",
    "            winner = 1\n",
    "        else:\n",
    "            winner = 2\n",
    "            \n",
    "    if(bool(winner)):\n",
    "        print('\\nGame Over! The Winner Is: Player{}!'.format(winner))\n",
    "        printBoard(xo)\n",
    "        return True\n",
    "    elif(len(moves) == 9):\n",
    "        print(\"\\nGame Over! It's a Tie!\")\n",
    "        return True\n",
    "    else:\n",
    "        return False"
   ]
  },
  {
   "cell_type": "code",
   "execution_count": 6,
   "metadata": {},
   "outputs": [
    {
     "name": "stdout",
     "output_type": "stream",
     "text": [
      "\n",
      "Player 1, your turn:1\n",
      "X |   |  \n",
      "---------\n",
      "  |   |  \n",
      "---------\n",
      "  |   |  \n",
      "Player 2, your turn:4\n",
      "X |   |  \n",
      "---------\n",
      "O |   |  \n",
      "---------\n",
      "  |   |  \n",
      "\n",
      "Player 1, your turn:7\n",
      "X |   |  \n",
      "---------\n",
      "O |   |  \n",
      "---------\n",
      "X |   |  \n",
      "Player 2, your turn:5\n",
      "X |   |  \n",
      "---------\n",
      "O | O |  \n",
      "---------\n",
      "X |   |  \n",
      "\n",
      "Player 1, your turn:2\n",
      "X | X |  \n",
      "---------\n",
      "O | O |  \n",
      "---------\n",
      "X |   |  \n",
      "Player 2, your turn:6\n",
      "X | X |  \n",
      "---------\n",
      "O | O | O\n",
      "---------\n",
      "X |   |  \n",
      "\n",
      "Game Over! The Winner Is: Player2!\n",
      "X | X |  \n",
      "---------\n",
      "O | O | O\n",
      "---------\n",
      "X |   |  \n"
     ]
    }
   ],
   "source": [
    "#Loop until there is a winner\n",
    "while(isWin(xo)==False):\n",
    "    userInput(moves)\n",
    "    moves_to_xo(moves,xo)\n",
    "    printBoard(xo)"
   ]
  }
 ],
 "metadata": {
  "kernelspec": {
   "display_name": "Python 3",
   "language": "python",
   "name": "python3"
  },
  "language_info": {
   "codemirror_mode": {
    "name": "ipython",
    "version": 3
   },
   "file_extension": ".py",
   "mimetype": "text/x-python",
   "name": "python",
   "nbconvert_exporter": "python",
   "pygments_lexer": "ipython3",
   "version": "3.6.3"
  }
 },
 "nbformat": 4,
 "nbformat_minor": 2
}
